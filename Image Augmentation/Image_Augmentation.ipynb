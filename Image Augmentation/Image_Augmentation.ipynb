{
 "cells": [
  {
   "cell_type": "code",
   "execution_count": 1,
   "metadata": {},
   "outputs": [],
   "source": [
    "from keras.preprocessing.image import ImageDataGenerator\n",
    "from keras.utils import img_to_array, load_img"
   ]
  },
  {
   "cell_type": "code",
   "execution_count": 13,
   "metadata": {},
   "outputs": [],
   "source": [
    "datagen = ImageDataGenerator(horizontal_flip=True,vertical_flip=True,\n",
    "    rotation_range=15,zoom_range=0.3, width_shift_range=0.15,height_shift_range=0.15,\n",
    "        shear_range=0.1, fill_mode=\"nearest\", rescale=1./255., validation_split=0.2, brightness_range=[0.6,0.9])"
   ]
  },
  {
   "cell_type": "code",
   "execution_count": 48,
   "metadata": {},
   "outputs": [
    {
     "name": "stdout",
     "output_type": "stream",
     "text": [
      "D:\\Final Year Project\\New\\Classification\\Data\\YOLO Algorithm Data\\Plastic\\Straw\\Our Dataset\\IMG20230614154526.jpg\n",
      "D:\\Final Year Project\\New\\Classification\\Data\\YOLO Algorithm Data\\Plastic\\Straw\\Our Dataset\\IMG20230614154526_1.jpg\n",
      "D:\\Final Year Project\\New\\Classification\\Data\\YOLO Algorithm Data\\Plastic\\Straw\\Our Dataset\\IMG20230614154528.jpg\n",
      "D:\\Final Year Project\\New\\Classification\\Data\\YOLO Algorithm Data\\Plastic\\Straw\\Our Dataset\\IMG20230614154543.jpg\n",
      "D:\\Final Year Project\\New\\Classification\\Data\\YOLO Algorithm Data\\Plastic\\Straw\\Our Dataset\\IMG20230614154545.jpg\n",
      "D:\\Final Year Project\\New\\Classification\\Data\\YOLO Algorithm Data\\Plastic\\Straw\\Our Dataset\\IMG20230614154549.jpg\n",
      "D:\\Final Year Project\\New\\Classification\\Data\\YOLO Algorithm Data\\Plastic\\Straw\\Our Dataset\\IMG20230614154549_1.jpg\n",
      "D:\\Final Year Project\\New\\Classification\\Data\\YOLO Algorithm Data\\Plastic\\Straw\\Our Dataset\\IMG20230614154730.jpg\n",
      "D:\\Final Year Project\\New\\Classification\\Data\\YOLO Algorithm Data\\Plastic\\Straw\\Our Dataset\\IMG20230614154731.jpg\n",
      "D:\\Final Year Project\\New\\Classification\\Data\\YOLO Algorithm Data\\Plastic\\Straw\\Our Dataset\\IMG20230614154737.jpg\n",
      "D:\\Final Year Project\\New\\Classification\\Data\\YOLO Algorithm Data\\Plastic\\Straw\\Our Dataset\\IMG20230614154738.jpg\n",
      "D:\\Final Year Project\\New\\Classification\\Data\\YOLO Algorithm Data\\Plastic\\Straw\\Our Dataset\\IMG20230614154739.jpg\n",
      "D:\\Final Year Project\\New\\Classification\\Data\\YOLO Algorithm Data\\Plastic\\Straw\\Our Dataset\\IMG20230614154741.jpg\n",
      "D:\\Final Year Project\\New\\Classification\\Data\\YOLO Algorithm Data\\Plastic\\Straw\\Our Dataset\\IMG20230614154753.jpg\n",
      "D:\\Final Year Project\\New\\Classification\\Data\\YOLO Algorithm Data\\Plastic\\Straw\\Our Dataset\\IMG20230614154755.jpg\n",
      "D:\\Final Year Project\\New\\Classification\\Data\\YOLO Algorithm Data\\Plastic\\Straw\\Our Dataset\\IMG20230614154831.jpg\n",
      "D:\\Final Year Project\\New\\Classification\\Data\\YOLO Algorithm Data\\Plastic\\Straw\\Our Dataset\\IMG20230614154836.jpg\n",
      "D:\\Final Year Project\\New\\Classification\\Data\\YOLO Algorithm Data\\Plastic\\Straw\\Our Dataset\\IMG20230614154844.jpg\n",
      "D:\\Final Year Project\\New\\Classification\\Data\\YOLO Algorithm Data\\Plastic\\Straw\\Our Dataset\\IMG20230614154847.jpg\n",
      "D:\\Final Year Project\\New\\Classification\\Data\\YOLO Algorithm Data\\Plastic\\Straw\\Our Dataset\\IMG20230614154901.jpg\n",
      "D:\\Final Year Project\\New\\Classification\\Data\\YOLO Algorithm Data\\Plastic\\Straw\\Our Dataset\\IMG20230614154905.jpg\n",
      "D:\\Final Year Project\\New\\Classification\\Data\\YOLO Algorithm Data\\Plastic\\Straw\\Our Dataset\\IMG20230614154908.jpg\n",
      "D:\\Final Year Project\\New\\Classification\\Data\\YOLO Algorithm Data\\Plastic\\Straw\\Our Dataset\\IMG20230614154915.jpg\n",
      "D:\\Final Year Project\\New\\Classification\\Data\\YOLO Algorithm Data\\Plastic\\Straw\\Our Dataset\\IMG20230614154935.jpg\n",
      "D:\\Final Year Project\\New\\Classification\\Data\\YOLO Algorithm Data\\Plastic\\Straw\\Our Dataset\\IMG20230614154937.jpg\n",
      "D:\\Final Year Project\\New\\Classification\\Data\\YOLO Algorithm Data\\Plastic\\Straw\\Our Dataset\\IMG20230614154938.jpg\n",
      "D:\\Final Year Project\\New\\Classification\\Data\\YOLO Algorithm Data\\Plastic\\Straw\\Our Dataset\\IMG20230614155018.jpg\n",
      "D:\\Final Year Project\\New\\Classification\\Data\\YOLO Algorithm Data\\Plastic\\Straw\\Our Dataset\\IMG20230614155018_1.jpg\n",
      "D:\\Final Year Project\\New\\Classification\\Data\\YOLO Algorithm Data\\Plastic\\Straw\\Our Dataset\\IMG20230614162749.jpg\n",
      "D:\\Final Year Project\\New\\Classification\\Data\\YOLO Algorithm Data\\Plastic\\Straw\\Our Dataset\\IMG20230614162753.jpg\n",
      "D:\\Final Year Project\\New\\Classification\\Data\\YOLO Algorithm Data\\Plastic\\Straw\\Our Dataset\\IMG20230614162757.jpg\n",
      "D:\\Final Year Project\\New\\Classification\\Data\\YOLO Algorithm Data\\Plastic\\Straw\\Our Dataset\\IMG20230614162801.jpg\n",
      "D:\\Final Year Project\\New\\Classification\\Data\\YOLO Algorithm Data\\Plastic\\Straw\\Our Dataset\\IMG20230614162806.jpg\n",
      "D:\\Final Year Project\\New\\Classification\\Data\\YOLO Algorithm Data\\Plastic\\Straw\\Our Dataset\\IMG20230614162813.jpg\n",
      "D:\\Final Year Project\\New\\Classification\\Data\\YOLO Algorithm Data\\Plastic\\Straw\\Our Dataset\\IMG20230614162816.jpg\n",
      "D:\\Final Year Project\\New\\Classification\\Data\\YOLO Algorithm Data\\Plastic\\Straw\\Our Dataset\\IMG20230614162820.jpg\n",
      "D:\\Final Year Project\\New\\Classification\\Data\\YOLO Algorithm Data\\Plastic\\Straw\\Our Dataset\\IMG20230614162825.jpg\n",
      "D:\\Final Year Project\\New\\Classification\\Data\\YOLO Algorithm Data\\Plastic\\Straw\\Our Dataset\\IMG20230614162830.jpg\n",
      "D:\\Final Year Project\\New\\Classification\\Data\\YOLO Algorithm Data\\Plastic\\Straw\\Our Dataset\\IMG20230614162852.jpg\n",
      "D:\\Final Year Project\\New\\Classification\\Data\\YOLO Algorithm Data\\Plastic\\Straw\\Our Dataset\\IMG20230614162855.jpg\n",
      "D:\\Final Year Project\\New\\Classification\\Data\\YOLO Algorithm Data\\Plastic\\Straw\\Our Dataset\\IMG20230614162900.jpg\n",
      "D:\\Final Year Project\\New\\Classification\\Data\\YOLO Algorithm Data\\Plastic\\Straw\\Our Dataset\\IMG20230614162905.jpg\n",
      "D:\\Final Year Project\\New\\Classification\\Data\\YOLO Algorithm Data\\Plastic\\Straw\\Our Dataset\\IMG20230614162914.jpg\n",
      "D:\\Final Year Project\\New\\Classification\\Data\\YOLO Algorithm Data\\Plastic\\Straw\\Our Dataset\\IMG20230614162914_1.jpg\n",
      "D:\\Final Year Project\\New\\Classification\\Data\\YOLO Algorithm Data\\Plastic\\Straw\\Our Dataset\\IMG20230614162917.jpg\n",
      "D:\\Final Year Project\\New\\Classification\\Data\\YOLO Algorithm Data\\Plastic\\Straw\\Our Dataset\\IMG20230614162922.jpg\n",
      "D:\\Final Year Project\\New\\Classification\\Data\\YOLO Algorithm Data\\Plastic\\Straw\\Our Dataset\\IMG20230614162924.jpg\n",
      "D:\\Final Year Project\\New\\Classification\\Data\\YOLO Algorithm Data\\Plastic\\Straw\\Our Dataset\\IMG20230614162929.jpg\n",
      "D:\\Final Year Project\\New\\Classification\\Data\\YOLO Algorithm Data\\Plastic\\Straw\\Our Dataset\\IMG20230614162934.jpg\n",
      "D:\\Final Year Project\\New\\Classification\\Data\\YOLO Algorithm Data\\Plastic\\Straw\\Our Dataset\\IMG20230614162936.jpg\n",
      "D:\\Final Year Project\\New\\Classification\\Data\\YOLO Algorithm Data\\Plastic\\Straw\\Our Dataset\\IMG20230614162938.jpg\n",
      "D:\\Final Year Project\\New\\Classification\\Data\\YOLO Algorithm Data\\Plastic\\Straw\\Our Dataset\\IMG20230614162940.jpg\n",
      "D:\\Final Year Project\\New\\Classification\\Data\\YOLO Algorithm Data\\Plastic\\Straw\\Our Dataset\\IMG20230614162943.jpg\n",
      "D:\\Final Year Project\\New\\Classification\\Data\\YOLO Algorithm Data\\Plastic\\Straw\\Our Dataset\\IMG20230614162945.jpg\n"
     ]
    }
   ],
   "source": [
    "import os\n",
    "\n",
    "path = os.chdir(\"D:\\\\Final Year Project\\\\New\\\\Classification\\\\Data\\\\YOLO Algorithm Data\\\\Plastic\\\\Straw\\\\Our Dataset\")\n",
    "way = \"D:\\\\Final Year Project\\\\New\\\\Classification\\\\Data\\\\YOLO Algorithm Data\\\\Plastic\\\\Straw\\\\Our Dataset\\\\\"\n",
    "\n",
    "for file in os.listdir(path):\n",
    "    if file.endswith('.jpg') or file.endswith('.png') or file.endswith('.jpeg'):\n",
    "        file = way + file\n",
    "        print(file)\n",
    "        image = load_img(file)\n",
    "        image_array = img_to_array(image)\n",
    "        X = image_array.reshape((1,) + image_array.shape)\n",
    "        count = 0\n",
    "        for batch in datagen.flow(X, batch_size=5,save_to_dir=\"Augmented Output\", save_prefix='straw', save_format='jpeg'):\n",
    "            count += 1\n",
    "            if count > 1:\n",
    "                break"
   ]
  },
  {
   "cell_type": "code",
   "execution_count": null,
   "metadata": {},
   "outputs": [],
   "source": []
  },
  {
   "cell_type": "code",
   "execution_count": 27,
   "metadata": {},
   "outputs": [],
   "source": [
    "# image = load_img('Augmented Input/4.jpeg')\n",
    "# image_array = img_to_array(image)"
   ]
  },
  {
   "cell_type": "code",
   "execution_count": 28,
   "metadata": {},
   "outputs": [
    {
     "data": {
      "text/plain": [
       "(960, 1280, 3)"
      ]
     },
     "execution_count": 28,
     "metadata": {},
     "output_type": "execute_result"
    }
   ],
   "source": [
    "# image_array.shape"
   ]
  },
  {
   "cell_type": "code",
   "execution_count": 29,
   "metadata": {},
   "outputs": [
    {
     "data": {
      "text/plain": [
       "(1, 960, 1280, 3)"
      ]
     },
     "execution_count": 29,
     "metadata": {},
     "output_type": "execute_result"
    }
   ],
   "source": [
    "# X = image_array.reshape((1,) + image_array.shape)\n",
    "# X.shape"
   ]
  },
  {
   "cell_type": "code",
   "execution_count": 30,
   "metadata": {},
   "outputs": [],
   "source": [
    "# count = 0\n",
    "# for batch in datagen.flow(X, batch_size=5,save_to_dir=\"Augmented Output\", save_prefix='jar', save_format='jpeg'):\n",
    "#     count += 1\n",
    "#     if count > 15:\n",
    "#         break"
   ]
  }
 ],
 "metadata": {
  "kernelspec": {
   "display_name": "Python 3.8.0 64-bit",
   "language": "python",
   "name": "python3"
  },
  "language_info": {
   "codemirror_mode": {
    "name": "ipython",
    "version": 3
   },
   "file_extension": ".py",
   "mimetype": "text/x-python",
   "name": "python",
   "nbconvert_exporter": "python",
   "pygments_lexer": "ipython3",
   "version": "3.8.0"
  },
  "orig_nbformat": 4,
  "vscode": {
   "interpreter": {
    "hash": "96a0583d7f093f9c9708c07202d0703d45f8375485288351e2eb84338b769012"
   }
  }
 },
 "nbformat": 4,
 "nbformat_minor": 2
}
