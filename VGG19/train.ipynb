{
 "cells": [
  {
   "cell_type": "code",
   "execution_count": 1,
   "metadata": {
    "colab": {
     "base_uri": "https://localhost:8080/"
    },
    "id": "nTULhii7zf-0",
    "outputId": "00dbb2e2-d3ab-439c-d004-95829b508f22"
   },
   "outputs": [
    {
     "name": "stdout",
     "output_type": "stream",
     "text": [
      "Mounted at /content/gdrive\n"
     ]
    }
   ],
   "source": [
    "from google.colab import drive\n",
    "drive.mount('/content/gdrive')"
   ]
  },
  {
   "cell_type": "code",
   "execution_count": null,
   "metadata": {
    "id": "o0PrKCKac-2K"
   },
   "outputs": [],
   "source": [
    "# from zipfile import ZipFile\n",
    "# file_name = 'archive.zip'\n",
    "# with ZipFile(file_name,'r') as zip:\n",
    "#   zip.extractall()\n",
    "#   print(\"Done..\")"
   ]
  },
  {
   "cell_type": "markdown",
   "metadata": {
    "id": "n_CJOBnRxZ4O"
   },
   "source": [
    "## Libraries"
   ]
  },
  {
   "cell_type": "code",
   "execution_count": 2,
   "metadata": {
    "id": "wK2Qlurewt6C"
   },
   "outputs": [],
   "source": [
    "import cv2\n",
    "import os\n",
    "import tensorflow as tf\n",
    "import pandas as pd\n",
    "import numpy as np\n",
    "import matplotlib.pyplot as plt\n",
    "from matplotlib.pyplot import *\n",
    "from sklearn.model_selection import train_test_split\n",
    "from tensorflow.keras import datasets, layers, models"
   ]
  },
  {
   "cell_type": "markdown",
   "metadata": {
    "id": "97i-QE7BxjJZ"
   },
   "source": [
    "## Preprocessing"
   ]
  },
  {
   "cell_type": "code",
   "execution_count": 3,
   "metadata": {
    "id": "pHufzfFnwuLY"
   },
   "outputs": [],
   "source": [
    "d = os.path.join(\"/content/gdrive/MyDrive/Dataset/Training_Data(Resized)\")\n",
    "classes = ['Glass', 'Metal', 'Paper', 'Plastic', 'Trash']"
   ]
  },
  {
   "cell_type": "code",
   "execution_count": 4,
   "metadata": {
    "colab": {
     "base_uri": "https://localhost:8080/"
    },
    "id": "DYaTfLalwuRP",
    "outputId": "05a2b40a-2296-4fe1-a7a9-c37552083f26"
   },
   "outputs": [
    {
     "name": "stdout",
     "output_type": "stream",
     "text": [
      "Images of label \"Glass\":\t 659\n",
      "Images of label \"Metal\":\t 592\n",
      "Images of label \"Paper\":\t 597\n",
      "Images of label \"Plastic\":\t 666\n",
      "Images of label \"Trash\":\t 256\n"
     ]
    }
   ],
   "source": [
    "for label in classes:\n",
    "    directory = os.path.join(d, label)\n",
    "    print(\"Images of label \\\"\" + label + \"\\\":\\t\", len(os.listdir(directory)))"
   ]
  },
  {
   "cell_type": "code",
   "execution_count": 5,
   "metadata": {
    "id": "hfZmisfHwuTc"
   },
   "outputs": [],
   "source": [
    "data=[]\n",
    "for c in classes:\n",
    "    i=classes.index(c)\n",
    "    path=os.path.join(d,c)\n",
    "    for img in os.listdir(path):\n",
    "        im=cv2.imread(os.path.join(path,img))\n",
    "        im=cv2.resize(im,(224,224))\n",
    "        data.append([im,i])"
   ]
  },
  {
   "cell_type": "code",
   "execution_count": 6,
   "metadata": {
    "colab": {
     "base_uri": "https://localhost:8080/"
    },
    "id": "3Jx2svJswuVc",
    "outputId": "dd2f88f7-78a2-4c71-f909-4bc4f3d275b6"
   },
   "outputs": [
    {
     "name": "stderr",
     "output_type": "stream",
     "text": [
      "<ipython-input-6-eb3a6eb15208>:1: VisibleDeprecationWarning: Creating an ndarray from ragged nested sequences (which is a list-or-tuple of lists-or-tuples-or ndarrays with different lengths or shapes) is deprecated. If you meant to do this, you must specify 'dtype=object' when creating the ndarray.\n",
      "  data=np.array(data)\n"
     ]
    }
   ],
   "source": [
    "data=np.array(data)\n",
    "import random\n",
    "random.shuffle(data)"
   ]
  },
  {
   "cell_type": "code",
   "execution_count": 7,
   "metadata": {
    "id": "NB_-jkSvwuXj"
   },
   "outputs": [],
   "source": [
    "X=[]\n",
    "Y=[]\n",
    "for x,y in data:\n",
    "    X.append(x)\n",
    "    Y.append(y)"
   ]
  },
  {
   "cell_type": "code",
   "execution_count": 8,
   "metadata": {
    "colab": {
     "base_uri": "https://localhost:8080/"
    },
    "id": "J79RUm1jwubG",
    "outputId": "93b62895-ced2-4954-811d-799840d228d4"
   },
   "outputs": [
    {
     "name": "stdout",
     "output_type": "stream",
     "text": [
      "(2770, 224, 224, 3) (2770,)\n"
     ]
    }
   ],
   "source": [
    "x=np.array(X)\n",
    "y=np.array(Y)\n",
    "print(x.shape,y.shape)"
   ]
  },
  {
   "cell_type": "code",
   "execution_count": 9,
   "metadata": {
    "id": "4y6MGf6Zxz-d"
   },
   "outputs": [],
   "source": [
    "x_train, x_test, y_train, y_test = train_test_split(x, y, test_size=0.3, random_state=4, stratify=y)"
   ]
  },
  {
   "cell_type": "code",
   "execution_count": 10,
   "metadata": {
    "colab": {
     "base_uri": "https://localhost:8080/"
    },
    "id": "wDlL7FB9wueW",
    "outputId": "21180749-6811-4842-ceed-3e496924e3b9"
   },
   "outputs": [
    {
     "name": "stdout",
     "output_type": "stream",
     "text": [
      "(1939, 224, 224, 3) (1939,)\n",
      "(831, 224, 224, 3) (831,)\n"
     ]
    }
   ],
   "source": [
    "x_train = x_train / 255.0\n",
    "x_test = x_test / 255.0\n",
    "\n",
    "print(x_train.shape,y_train.shape)\n",
    "print(x_test.shape,y_test.shape)"
   ]
  },
  {
   "cell_type": "markdown",
   "metadata": {
    "id": "AJ4PrHBox3wQ"
   },
   "source": [
    "## Build Model"
   ]
  },
  {
   "cell_type": "code",
   "execution_count": 11,
   "metadata": {
    "colab": {
     "base_uri": "https://localhost:8080/"
    },
    "id": "hYeVTNU1wugt",
    "outputId": "14e19437-93c5-438f-b44c-814d35dbf52f"
   },
   "outputs": [
    {
     "name": "stdout",
     "output_type": "stream",
     "text": [
      "Downloading data from https://storage.googleapis.com/tensorflow/keras-applications/vgg19/vgg19_weights_tf_dim_ordering_tf_kernels.h5\n",
      "574710816/574710816 [==============================] - 17s 0us/step\n"
     ]
    }
   ],
   "source": [
    "model_vgg19=tf.keras.applications.vgg19.VGG19(\n",
    "    input_shape=None,\n",
    "    include_top=True,\n",
    "    weights='imagenet',\n",
    "    input_tensor=None,\n",
    "    pooling=None,\n",
    "    classes=1000,\n",
    "    classifier_activation='softmax'\n",
    ")"
   ]
  },
  {
   "cell_type": "code",
   "execution_count": 12,
   "metadata": {
    "colab": {
     "base_uri": "https://localhost:8080/"
    },
    "id": "cPVZUVLvx7HV",
    "outputId": "122b6cf4-9627-4d80-a52d-d3415543a00c"
   },
   "outputs": [
    {
     "name": "stdout",
     "output_type": "stream",
     "text": [
      "Model: \"vgg19\"\n",
      "_________________________________________________________________\n",
      " Layer (type)                Output Shape              Param #   \n",
      "=================================================================\n",
      " input_1 (InputLayer)        [(None, 224, 224, 3)]     0         \n",
      "                                                                 \n",
      " block1_conv1 (Conv2D)       (None, 224, 224, 64)      1792      \n",
      "                                                                 \n",
      " block1_conv2 (Conv2D)       (None, 224, 224, 64)      36928     \n",
      "                                                                 \n",
      " block1_pool (MaxPooling2D)  (None, 112, 112, 64)      0         \n",
      "                                                                 \n",
      " block2_conv1 (Conv2D)       (None, 112, 112, 128)     73856     \n",
      "                                                                 \n",
      " block2_conv2 (Conv2D)       (None, 112, 112, 128)     147584    \n",
      "                                                                 \n",
      " block2_pool (MaxPooling2D)  (None, 56, 56, 128)       0         \n",
      "                                                                 \n",
      " block3_conv1 (Conv2D)       (None, 56, 56, 256)       295168    \n",
      "                                                                 \n",
      " block3_conv2 (Conv2D)       (None, 56, 56, 256)       590080    \n",
      "                                                                 \n",
      " block3_conv3 (Conv2D)       (None, 56, 56, 256)       590080    \n",
      "                                                                 \n",
      " block3_conv4 (Conv2D)       (None, 56, 56, 256)       590080    \n",
      "                                                                 \n",
      " block3_pool (MaxPooling2D)  (None, 28, 28, 256)       0         \n",
      "                                                                 \n",
      " block4_conv1 (Conv2D)       (None, 28, 28, 512)       1180160   \n",
      "                                                                 \n",
      " block4_conv2 (Conv2D)       (None, 28, 28, 512)       2359808   \n",
      "                                                                 \n",
      " block4_conv3 (Conv2D)       (None, 28, 28, 512)       2359808   \n",
      "                                                                 \n",
      " block4_conv4 (Conv2D)       (None, 28, 28, 512)       2359808   \n",
      "                                                                 \n",
      " block4_pool (MaxPooling2D)  (None, 14, 14, 512)       0         \n",
      "                                                                 \n",
      " block5_conv1 (Conv2D)       (None, 14, 14, 512)       2359808   \n",
      "                                                                 \n",
      " block5_conv2 (Conv2D)       (None, 14, 14, 512)       2359808   \n",
      "                                                                 \n",
      " block5_conv3 (Conv2D)       (None, 14, 14, 512)       2359808   \n",
      "                                                                 \n",
      " block5_conv4 (Conv2D)       (None, 14, 14, 512)       2359808   \n",
      "                                                                 \n",
      " block5_pool (MaxPooling2D)  (None, 7, 7, 512)         0         \n",
      "                                                                 \n",
      " flatten (Flatten)           (None, 25088)             0         \n",
      "                                                                 \n",
      " fc1 (Dense)                 (None, 4096)              102764544 \n",
      "                                                                 \n",
      " fc2 (Dense)                 (None, 4096)              16781312  \n",
      "                                                                 \n",
      " predictions (Dense)         (None, 1000)              4097000   \n",
      "                                                                 \n",
      "=================================================================\n",
      "Total params: 143,667,240\n",
      "Trainable params: 143,667,240\n",
      "Non-trainable params: 0\n",
      "_________________________________________________________________\n"
     ]
    }
   ],
   "source": [
    "model_vgg19.summary()"
   ]
  },
  {
   "cell_type": "code",
   "execution_count": 13,
   "metadata": {
    "id": "4_tHw3MIx7JP"
   },
   "outputs": [],
   "source": [
    "base_input4=model_vgg19.layers[0].input\n",
    "base_output4=model_vgg19.layers[-2].output\n",
    "\n",
    "final_output4 = layers.Dense(240)(base_output4)\n",
    "final_output4 = layers.Activation('relu')(final_output4)\n",
    "final_output4 = layers.Dense(128)(final_output4)\n",
    "final_output4 = layers.Activation('relu')(final_output4)\n",
    "final_output4 = layers.Dense(64)(final_output4)\n",
    "final_output4 = layers.Activation('relu')(final_output4)\n",
    "final_output4 = layers.Dense(5, activation='softmax')(final_output4)"
   ]
  },
  {
   "cell_type": "code",
   "execution_count": 14,
   "metadata": {
    "id": "mwiFa6cLyATx"
   },
   "outputs": [],
   "source": [
    "new_model_vgg19 = tf.keras.Model(inputs = base_input4, outputs = final_output4)"
   ]
  },
  {
   "cell_type": "code",
   "execution_count": 15,
   "metadata": {
    "id": "NgOSrcTOyAWd"
   },
   "outputs": [],
   "source": [
    "new_model_vgg19.compile(loss=\"sparse_categorical_crossentropy\", optimizer = \"SGD\", metrics = [\"accuracy\"])"
   ]
  },
  {
   "cell_type": "markdown",
   "metadata": {
    "id": "kozM10vfyIvc"
   },
   "source": [
    "## Train Model"
   ]
  },
  {
   "cell_type": "code",
   "execution_count": 16,
   "metadata": {
    "colab": {
     "base_uri": "https://localhost:8080/"
    },
    "id": "mfdcDfWyyGZq",
    "outputId": "235a4c2e-f249-444d-d68d-00a1e6b644f0"
   },
   "outputs": [
    {
     "name": "stdout",
     "output_type": "stream",
     "text": [
      "Epoch 1/20\n",
      "61/61 [==============================] - 73s 813ms/step - loss: 1.2728 - accuracy: 0.5240 - val_loss: 1.2088 - val_accuracy: 0.4645\n",
      "Epoch 2/20\n",
      "61/61 [==============================] - 37s 605ms/step - loss: 1.0533 - accuracy: 0.5750 - val_loss: 0.8043 - val_accuracy: 0.6486\n",
      "Epoch 3/20\n",
      "61/61 [==============================] - 35s 577ms/step - loss: 0.8515 - accuracy: 0.6668 - val_loss: 0.8987 - val_accuracy: 0.7100\n",
      "Epoch 4/20\n",
      "61/61 [==============================] - 37s 601ms/step - loss: 0.6261 - accuracy: 0.7839 - val_loss: 0.5588 - val_accuracy: 0.7882\n",
      "Epoch 5/20\n",
      "61/61 [==============================] - 37s 602ms/step - loss: 0.2885 - accuracy: 0.8958 - val_loss: 0.3068 - val_accuracy: 0.8953\n",
      "Epoch 6/20\n",
      "61/61 [==============================] - 37s 601ms/step - loss: 0.1553 - accuracy: 0.9520 - val_loss: 0.1717 - val_accuracy: 0.9410\n",
      "Epoch 7/20\n",
      "61/61 [==============================] - 36s 599ms/step - loss: 0.6211 - accuracy: 0.8272 - val_loss: 1.1864 - val_accuracy: 0.5740\n",
      "Epoch 8/20\n",
      "61/61 [==============================] - 35s 575ms/step - loss: 1.0782 - accuracy: 0.5606 - val_loss: 0.5509 - val_accuracy: 0.8159\n",
      "Epoch 9/20\n",
      "61/61 [==============================] - 35s 577ms/step - loss: 0.4039 - accuracy: 0.8556 - val_loss: 0.1423 - val_accuracy: 0.9747\n",
      "Epoch 10/20\n",
      "61/61 [==============================] - 35s 580ms/step - loss: 0.1460 - accuracy: 0.9582 - val_loss: 0.7752 - val_accuracy: 0.7365\n",
      "Epoch 11/20\n",
      "61/61 [==============================] - 35s 582ms/step - loss: 0.0673 - accuracy: 0.9794 - val_loss: 0.0961 - val_accuracy: 0.9723\n",
      "Epoch 12/20\n",
      "61/61 [==============================] - 36s 599ms/step - loss: 0.0098 - accuracy: 0.9974 - val_loss: 0.0898 - val_accuracy: 0.9747\n",
      "Epoch 13/20\n",
      "61/61 [==============================] - 37s 601ms/step - loss: 0.0033 - accuracy: 1.0000 - val_loss: 0.0854 - val_accuracy: 0.9819\n",
      "Epoch 14/20\n",
      "61/61 [==============================] - 35s 582ms/step - loss: 0.0017 - accuracy: 1.0000 - val_loss: 0.0875 - val_accuracy: 0.9819\n",
      "Epoch 15/20\n",
      "61/61 [==============================] - 36s 599ms/step - loss: 0.0011 - accuracy: 1.0000 - val_loss: 0.0913 - val_accuracy: 0.9819\n",
      "Epoch 16/20\n",
      "61/61 [==============================] - 35s 583ms/step - loss: 7.9680e-04 - accuracy: 1.0000 - val_loss: 0.0943 - val_accuracy: 0.9807\n",
      "Epoch 17/20\n",
      "61/61 [==============================] - 36s 599ms/step - loss: 6.2422e-04 - accuracy: 1.0000 - val_loss: 0.0964 - val_accuracy: 0.9807\n",
      "Epoch 18/20\n",
      "61/61 [==============================] - 35s 583ms/step - loss: 4.9433e-04 - accuracy: 1.0000 - val_loss: 0.0987 - val_accuracy: 0.9807\n",
      "Epoch 19/20\n",
      "61/61 [==============================] - 35s 582ms/step - loss: 4.1025e-04 - accuracy: 1.0000 - val_loss: 0.1004 - val_accuracy: 0.9807\n",
      "Epoch 20/20\n",
      "61/61 [==============================] - 36s 583ms/step - loss: 3.4469e-04 - accuracy: 1.0000 - val_loss: 0.1019 - val_accuracy: 0.9807\n"
     ]
    }
   ],
   "source": [
    "result_V=new_model_vgg19.fit(x_train, y_train, epochs = 20,validation_data=(x_test, y_test))"
   ]
  },
  {
   "cell_type": "markdown",
   "metadata": {
    "id": "5WSrn2-ZyMeS"
   },
   "source": [
    "## Accuracy"
   ]
  },
  {
   "cell_type": "code",
   "execution_count": 17,
   "metadata": {
    "colab": {
     "base_uri": "https://localhost:8080/",
     "height": 472
    },
    "id": "pxkhMvqhyOIq",
    "outputId": "a8f8c345-f7e7-4022-ab7f-59020cb8f712"
   },
   "outputs": [
    {
     "data": {
      "text/plain": [
       "<matplotlib.legend.Legend at 0x7f56f30138e0>"
      ]
     },
     "execution_count": 17,
     "metadata": {},
     "output_type": "execute_result"
    },
    {
     "data": {
      "image/png": "[encoded data removed]",
      "text/plain": [
       "<Figure size 640x480 with 1 Axes>"
      ]
     },
     "metadata": {},
     "output_type": "display_data"
    }
   ],
   "source": [
    "plt.plot(result_V.history['accuracy'], label='accuracy')\n",
    "plt.plot(result_V.history['val_accuracy'], label = 'val_accuracy')\n",
    "plt.xlabel('Epoch')\n",
    "plt.ylabel('Accuracy')\n",
    "plt.ylim([0, 1])\n",
    "plt.legend(loc='lower right')"
   ]
  },
  {
   "cell_type": "code",
   "execution_count": 18,
   "metadata": {
    "colab": {
     "base_uri": "https://localhost:8080/",
     "height": 472
    },
    "id": "CkCEdt5ZE9kI",
    "outputId": "36dd42a7-88a7-407e-dcbc-1ce9e06379c2"
   },
   "outputs": [
    {
     "data": {
      "text/plain": [
       "<matplotlib.legend.Legend at 0x7f54ecf8fb50>"
      ]
     },
     "execution_count": 18,
     "metadata": {},
     "output_type": "execute_result"
    },
    {
     "data": {
      "image/png": "[encoded data removed]",
      "text/plain": [
       "<Figure size 640x480 with 1 Axes>"
      ]
     },
     "metadata": {},
     "output_type": "display_data"
    }
   ],
   "source": [
    "plt.plot(result_V.history['loss'], label='loss')\n",
    "plt.plot(result_V.history['val_loss'], label = 'val_loss')\n",
    "plt.xlabel('Epoch')\n",
    "plt.ylabel('Loss')\n",
    "plt.ylim([0, 1])\n",
    "plt.legend(loc='lower right')"
   ]
  },
  {
   "cell_type": "code",
   "execution_count": 19,
   "metadata": {
    "colab": {
     "base_uri": "https://localhost:8080/"
    },
    "id": "YthRTwC_yOLF",
    "outputId": "5c878cd5-0a9d-468b-efbd-3777c780bdfa"
   },
   "outputs": [
    {
     "name": "stdout",
     "output_type": "stream",
     "text": [
      "26/26 [==============================] - 4s 151ms/step - loss: 0.1019 - accuracy: 0.9807\n"
     ]
    }
   ],
   "source": [
    "loss , accuracy = new_model_vgg19.evaluate(x_test,y_test)"
   ]
  },
  {
   "cell_type": "code",
   "execution_count": 20,
   "metadata": {
    "colab": {
     "base_uri": "https://localhost:8080/"
    },
    "id": "W9rtq0WZ63yh",
    "outputId": "0553e2d3-dda9-4a03-bfff-66871037678a"
   },
   "outputs": [
    {
     "name": "stdout",
     "output_type": "stream",
     "text": [
      "26/26 [==============================] - 4s 145ms/step\n"
     ]
    }
   ],
   "source": [
    "y_pred = new_model_vgg19.predict(x_test).round(2)"
   ]
  },
  {
   "cell_type": "code",
   "execution_count": 21,
   "metadata": {
    "colab": {
     "base_uri": "https://localhost:8080/",
     "height": 589
    },
    "id": "cwKUmO_f64H8",
    "outputId": "0f75af2c-0bb5-457f-f793-6b0e9db9a6ec"
   },
   "outputs": [
    {
     "name": "stdout",
     "output_type": "stream",
     "text": [
      "[[474   2   1   0   0]\n",
      " [  2 187   2   0   0]\n",
      " [  0   2 109   1   0]\n",
      " [  3   0   0  45   0]\n",
      " [  0   1   2   0   0]]\n"
     ]
    },
    {
     "data": {
      "text/plain": [
       "<Axes: >"
      ]
     },
     "execution_count": 21,
     "metadata": {},
     "output_type": "execute_result"
    },
    {
     "data": {
      "image/png": "[encoded data removed]",
      "text/plain": [
       "<Figure size 1600x900 with 2 Axes>"
      ]
     },
     "metadata": {},
     "output_type": "display_data"
    }
   ],
   "source": [
    "from sklearn.metrics import confusion_matrix\n",
    "import seaborn as sns\n",
    "\n",
    "\n",
    "plt.figure(figsize=(16,9))\n",
    "y_pred_labels = [np.argmax(label) for label in y_pred]\n",
    "cm = confusion_matrix(y_test, y_pred_labels)\n",
    "print(cm)\n",
    "\n",
    "sns.heatmap(cm, annot=True, fmt='d', xticklabels=classes, yticklabels=classes)"
   ]
  },
  {
   "cell_type": "code",
   "execution_count": 22,
   "metadata": {
    "colab": {
     "base_uri": "https://localhost:8080/"
    },
    "id": "sHZt-bwsKQI7",
    "outputId": "b78e5e1c-bbad-411f-81a9-e161e86b953b"
   },
   "outputs": [
    {
     "name": "stdout",
     "output_type": "stream",
     "text": [
      "              precision    recall  f1-score   support\n",
      "\n",
      "       Glass       0.99      0.99      0.99       477\n",
      "       Metal       0.97      0.98      0.98       191\n",
      "       Paper       0.96      0.97      0.96       112\n",
      "     Plastic       0.98      0.94      0.96        48\n",
      "       Trash       0.00      0.00      0.00         3\n",
      "\n",
      "    accuracy                           0.98       831\n",
      "   macro avg       0.78      0.78      0.78       831\n",
      "weighted avg       0.98      0.98      0.98       831\n",
      "\n"
     ]
    },
    {
     "name": "stderr",
     "output_type": "stream",
     "text": [
      "/usr/local/lib/python3.10/dist-packages/sklearn/metrics/_classification.py:1344: UndefinedMetricWarning: Precision and F-score are ill-defined and being set to 0.0 in labels with no predicted samples. Use `zero_division` parameter to control this behavior.\n",
      "  _warn_prf(average, modifier, msg_start, len(result))\n",
      "/usr/local/lib/python3.10/dist-packages/sklearn/metrics/_classification.py:1344: UndefinedMetricWarning: Precision and F-score are ill-defined and being set to 0.0 in labels with no predicted samples. Use `zero_division` parameter to control this behavior.\n",
      "  _warn_prf(average, modifier, msg_start, len(result))\n",
      "/usr/local/lib/python3.10/dist-packages/sklearn/metrics/_classification.py:1344: UndefinedMetricWarning: Precision and F-score are ill-defined and being set to 0.0 in labels with no predicted samples. Use `zero_division` parameter to control this behavior.\n",
      "  _warn_prf(average, modifier, msg_start, len(result))\n"
     ]
    }
   ],
   "source": [
    "from sklearn.metrics import classification_report\n",
    "cr= classification_report(y_test, y_pred_labels, target_names=classes)\n",
    "print(cr)"
   ]
  },
  {
   "cell_type": "markdown",
   "metadata": {
    "id": "IuZzclfOfORe"
   },
   "source": [
    "# Save The Model"
   ]
  },
  {
   "cell_type": "code",
   "execution_count": null,
   "metadata": {
    "id": "6GEye1scc9Tj"
   },
   "outputs": [],
   "source": [
    "# serialize model to JSON\n",
    "model_json = new_model_vgg19.to_json()\n",
    "with open(\"VGG_model.json\", \"w\") as json_file:\n",
    "    json_file.write(model_json)\n",
    "# serialize weights to HDF5\n",
    "new_model_vgg19.save_weights(\"VGG_model.h5\")"
   ]
  },
  {
   "cell_type": "markdown",
   "metadata": {
    "id": "EtJF-mmmQeph"
   },
   "source": [
    "## Saving Model In Drive"
   ]
  },
  {
   "cell_type": "code",
   "execution_count": null,
   "metadata": {
    "colab": {
     "base_uri": "https://localhost:8080/"
    },
    "id": "FGhPTCC8c9LN",
    "outputId": "ab1d38a6-2a8d-4988-d295-149fc7143b9c"
   },
   "outputs": [
    {
     "name": "stdout",
     "output_type": "stream",
     "text": [
      "Mounted at /content/gdrive\n"
     ]
    }
   ],
   "source": [
    "from google.colab import drive\n",
    "drive.mount('/content/gdrive')"
   ]
  },
  {
   "cell_type": "code",
   "execution_count": null,
   "metadata": {
    "colab": {
     "base_uri": "https://localhost:8080/"
    },
    "id": "MLjmyMfXc8_u",
    "outputId": "3adcee01-65ad-431c-c6c6-a74a9eedc933"
   },
   "outputs": [
    {
     "name": "stdout",
     "output_type": "stream",
     "text": [
      " A\t\t\t 'Final Year Project'\t      Mysql\n",
      "'Academic Research'\t 'First Project(100 Ideas)'   Pendrive\n",
      "'All software'\t\t 'Higher Study'\t\t      Personal\n",
      " Andriod_development\t 'ICT-9th batch'\t      Programming\n",
      "'Android Development'\t  IDM\t\t\t     'Programming Tutorials'\n",
      " Anik\t\t\t  Job\t\t\t      Projects\n",
      "'Certificates & papers'  'Machine Learning'\t      Robotics\n",
      " Classroom\t\t  Marrige\t\t     'Robotics Project'\n",
      "'Colab Notebooks'\t 'ML Data'\t\t      Robot_Software\n",
      "'Deep Learning'\t\t 'M. Learning'\t\t      server\n",
      " Diary\t\t\t  Movies\t\t     'Social Life'\n",
      " English\t\t  Mridul\t\t     'web development'\n",
      " Extra\t\t\t 'My IELTS'\n"
     ]
    }
   ],
   "source": [
    "!ls \"/content/gdrive/My Drive\""
   ]
  },
  {
   "cell_type": "code",
   "execution_count": 23,
   "metadata": {
    "id": "WIek3JAGc8r7"
   },
   "outputs": [],
   "source": [
    "model_json = new_model_vgg19.to_json()\n",
    "with open(\"/content/gdrive/My Drive/Colab Notebooks/VGG_model.json\", \"w\") as json_file:\n",
    "    json_file.write(model_json)\n",
    "# serialize weights to HDF5\n",
    "new_model_vgg19.save_weights(\"/content/gdrive/My Drive/Colab Notebooks/VGG_modell.h5\")"
   ]
  },
  {
   "cell_type": "code",
   "execution_count": null,
   "metadata": {
    "colab": {
     "base_uri": "https://localhost:8080/"
    },
    "id": "SMyOzXUtRcok",
    "outputId": "2f86c1c7-b600-442d-940d-e3dab880af57"
   },
   "outputs": [
    {
     "name": "stdout",
     "output_type": "stream",
     "text": [
      "Class.ipynb\t       DenseNet1_model.json\t\t test.ipynb\n",
      "DenseNet1_Colab.ipynb  garbage-classification-cnn.ipynb  Untitled0.ipynb\n",
      "DenseNet1_model.h5     rese.ipynb\n"
     ]
    }
   ],
   "source": [
    "!ls \"/content/gdrive/My Drive/Colab Notebooks\""
   ]
  }
 ],
 "metadata": {
  "accelerator": "GPU",
  "colab": {
   "provenance": []
  },
  "kernelspec": {
   "display_name": "Python 3 (ipykernel)",
   "language": "python",
   "name": "python3"
  },
  "language_info": {
   "codemirror_mode": {
    "name": "ipython",
    "version": 3
   },
   "file_extension": ".py",
   "mimetype": "text/x-python",
   "name": "python",
   "nbconvert_exporter": "python",
   "pygments_lexer": "ipython3",
   "version": "3.8.0"
  }
 },
 "nbformat": 4,
 "nbformat_minor": 1
}
